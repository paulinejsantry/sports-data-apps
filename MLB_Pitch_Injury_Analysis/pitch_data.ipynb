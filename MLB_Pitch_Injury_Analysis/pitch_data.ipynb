{
 "cells": [
  {
   "cell_type": "markdown",
   "metadata": {},
   "source": [
    "# Load pitch data using the pybaseball package\n",
    "- The pybaseball package scrapes data from [baseball savant](https://baseballsavant.mlb.com/statcast_search?hfPT=&hfAB=&hfGT=R%7C&hfPR=&hfZ=&hfStadium=&hfBBL=&hfNewZones=&hfPull=&hfC=&hfSea=2021%7C2020%7C2019%7C&hfSit=&player_type=pitcher&hfOuts=&hfOpponent=&pitcher_throws=&batter_stands=&hfSA=&game_date_gt=&game_date_lt=&hfMo=&hfTeam=&home_road=&hfRO=&position=&hfInfield=&hfOutfield=&hfInn=&hfBBT=&hfFlag=&metric_1=&group_by=name&min_pitches=0&min_results=0&min_pas=0&sort_col=pitches&player_event_sort=api_p_release_speed&sort_order=desc#results) to get pitch level data\n",
    "- https://github.com/jldbc/pybaseball\n",
    "\n"
   ]
  },
  {
   "cell_type": "code",
   "execution_count": 4,
   "metadata": {},
   "outputs": [],
   "source": [
    "import pandas as pd\n",
    "import tqdm # for tracking status of loops\n",
    "from pybaseball import statcast, pitching_stats, pitching_stats_range\n",
    "\n",
    "import time\n"
   ]
  },
  {
   "cell_type": "code",
   "execution_count": 9,
   "metadata": {},
   "outputs": [
    {
     "name": "stderr",
     "output_type": "stream",
     "text": [
      " 14%|█▍        | 1/7 [00:00<00:00,  6.35it/s]"
     ]
    },
    {
     "name": "stdout",
     "output_type": "stream",
     "text": [
      "Error on month: 2010-03-01\n"
     ]
    },
    {
     "name": "stderr",
     "output_type": "stream",
     "text": [
      "100%|██████████| 7/7 [00:36<00:00,  5.24s/it]\n"
     ]
    },
    {
     "name": "stdout",
     "output_type": "stream",
     "text": [
      "year=2010 complete. Sleeping for 30 seconds\n"
     ]
    },
    {
     "name": "stderr",
     "output_type": "stream",
     "text": [
      "100%|██████████| 7/7 [00:36<00:00,  5.24s/it]\n"
     ]
    },
    {
     "name": "stdout",
     "output_type": "stream",
     "text": [
      "year=2011 complete. Sleeping for 30 seconds\n"
     ]
    },
    {
     "name": "stderr",
     "output_type": "stream",
     "text": [
      "100%|██████████| 7/7 [00:40<00:00,  5.85s/it]\n"
     ]
    },
    {
     "name": "stdout",
     "output_type": "stream",
     "text": [
      "year=2012 complete. Sleeping for 30 seconds\n"
     ]
    },
    {
     "name": "stderr",
     "output_type": "stream",
     "text": [
      "100%|██████████| 7/7 [00:39<00:00,  5.70s/it]\n"
     ]
    },
    {
     "name": "stdout",
     "output_type": "stream",
     "text": [
      "year=2013 complete. Sleeping for 30 seconds\n"
     ]
    },
    {
     "name": "stderr",
     "output_type": "stream",
     "text": [
      "100%|██████████| 7/7 [00:39<00:00,  5.63s/it]\n"
     ]
    },
    {
     "name": "stdout",
     "output_type": "stream",
     "text": [
      "year=2014 complete. Sleeping for 30 seconds\n"
     ]
    },
    {
     "name": "stderr",
     "output_type": "stream",
     "text": [
      " 14%|█▍        | 1/7 [00:00<00:00,  6.21it/s]"
     ]
    },
    {
     "name": "stdout",
     "output_type": "stream",
     "text": [
      "Error on month: 2015-03-01\n"
     ]
    },
    {
     "name": "stderr",
     "output_type": "stream",
     "text": [
      "100%|██████████| 7/7 [00:36<00:00,  5.24s/it]\n"
     ]
    },
    {
     "name": "stdout",
     "output_type": "stream",
     "text": [
      "year=2015 complete. Sleeping for 30 seconds\n"
     ]
    },
    {
     "name": "stderr",
     "output_type": "stream",
     "text": [
      " 14%|█▍        | 1/7 [00:00<00:01,  3.05it/s]"
     ]
    },
    {
     "name": "stdout",
     "output_type": "stream",
     "text": [
      "Error on month: 2016-03-01\n"
     ]
    },
    {
     "name": "stderr",
     "output_type": "stream",
     "text": [
      "100%|██████████| 7/7 [00:36<00:00,  5.24s/it]\n"
     ]
    },
    {
     "name": "stdout",
     "output_type": "stream",
     "text": [
      "year=2016 complete. Sleeping for 30 seconds\n"
     ]
    },
    {
     "name": "stderr",
     "output_type": "stream",
     "text": [
      " 14%|█▍        | 1/7 [00:00<00:01,  4.43it/s]"
     ]
    },
    {
     "name": "stdout",
     "output_type": "stream",
     "text": [
      "Error on month: 2017-03-01\n"
     ]
    },
    {
     "name": "stderr",
     "output_type": "stream",
     "text": [
      "100%|██████████| 7/7 [00:36<00:00,  5.24s/it]\n"
     ]
    },
    {
     "name": "stdout",
     "output_type": "stream",
     "text": [
      "year=2017 complete. Sleeping for 30 seconds\n"
     ]
    },
    {
     "name": "stderr",
     "output_type": "stream",
     "text": [
      "100%|██████████| 7/7 [00:36<00:00,  5.24s/it]\n"
     ]
    },
    {
     "name": "stdout",
     "output_type": "stream",
     "text": [
      "year=2018 complete. Sleeping for 30 seconds\n"
     ]
    },
    {
     "name": "stderr",
     "output_type": "stream",
     "text": [
      "100%|██████████| 7/7 [00:36<00:00,  5.24s/it]\n"
     ]
    },
    {
     "name": "stdout",
     "output_type": "stream",
     "text": [
      "year=2019 complete. Sleeping for 30 seconds\n"
     ]
    },
    {
     "name": "stderr",
     "output_type": "stream",
     "text": [
      " 14%|█▍        | 1/7 [00:00<00:01,  3.11it/s]"
     ]
    },
    {
     "name": "stdout",
     "output_type": "stream",
     "text": [
      "Error on month: 2020-03-01\n"
     ]
    },
    {
     "name": "stderr",
     "output_type": "stream",
     "text": [
      " 29%|██▊       | 2/7 [00:06<00:18,  3.60s/it]"
     ]
    },
    {
     "name": "stdout",
     "output_type": "stream",
     "text": [
      "Error on month: 2020-04-01\n"
     ]
    },
    {
     "name": "stderr",
     "output_type": "stream",
     "text": [
      " 43%|████▎     | 3/7 [00:12<00:18,  4.70s/it]"
     ]
    },
    {
     "name": "stdout",
     "output_type": "stream",
     "text": [
      "Error on month: 2020-05-01\n"
     ]
    },
    {
     "name": "stderr",
     "output_type": "stream",
     "text": [
      " 57%|█████▋    | 4/7 [00:18<00:15,  5.24s/it]"
     ]
    },
    {
     "name": "stdout",
     "output_type": "stream",
     "text": [
      "Error on month: 2020-06-01\n"
     ]
    },
    {
     "name": "stderr",
     "output_type": "stream",
     "text": [
      "100%|██████████| 7/7 [00:36<00:00,  5.23s/it]\n"
     ]
    },
    {
     "name": "stdout",
     "output_type": "stream",
     "text": [
      "year=2020 complete. Sleeping for 30 seconds\n"
     ]
    },
    {
     "name": "stderr",
     "output_type": "stream",
     "text": [
      "100%|██████████| 7/7 [00:36<00:00,  5.23s/it]\n"
     ]
    },
    {
     "name": "stdout",
     "output_type": "stream",
     "text": [
      "year=2021 complete. Sleeping for 30 seconds\n"
     ]
    },
    {
     "name": "stderr",
     "output_type": "stream",
     "text": [
      " 14%|█▍        | 1/7 [00:00<00:01,  3.34it/s]"
     ]
    },
    {
     "name": "stdout",
     "output_type": "stream",
     "text": [
      "Error on month: 2022-03-01\n"
     ]
    },
    {
     "name": "stderr",
     "output_type": "stream",
     "text": [
      "100%|██████████| 7/7 [00:36<00:00,  5.23s/it]\n"
     ]
    },
    {
     "name": "stdout",
     "output_type": "stream",
     "text": [
      "year=2022 complete. Sleeping for 30 seconds\n"
     ]
    },
    {
     "name": "stderr",
     "output_type": "stream",
     "text": [
      "100%|██████████| 7/7 [00:36<00:00,  5.23s/it]\n"
     ]
    },
    {
     "name": "stdout",
     "output_type": "stream",
     "text": [
      "year=2023 complete. Sleeping for 30 seconds\n"
     ]
    },
    {
     "name": "stderr",
     "output_type": "stream",
     "text": [
      " 57%|█████▋    | 4/7 [00:18<00:14,  4.81s/it]"
     ]
    },
    {
     "name": "stdout",
     "output_type": "stream",
     "text": [
      "Error on month: 2024-06-01\n"
     ]
    },
    {
     "name": "stderr",
     "output_type": "stream",
     "text": [
      " 71%|███████▏  | 5/7 [00:24<00:10,  5.25s/it]"
     ]
    },
    {
     "name": "stdout",
     "output_type": "stream",
     "text": [
      "Error on month: 2024-07-01\n"
     ]
    },
    {
     "name": "stderr",
     "output_type": "stream",
     "text": [
      " 86%|████████▌ | 6/7 [00:30<00:05,  5.49s/it]"
     ]
    },
    {
     "name": "stdout",
     "output_type": "stream",
     "text": [
      "Error on month: 2024-08-01\n"
     ]
    },
    {
     "name": "stderr",
     "output_type": "stream",
     "text": [
      "100%|██████████| 7/7 [00:36<00:00,  5.17s/it]"
     ]
    },
    {
     "name": "stdout",
     "output_type": "stream",
     "text": [
      "Error on month: 2024-09-01\n",
      "year=2024 complete. Sleeping for 30 seconds\n"
     ]
    },
    {
     "name": "stderr",
     "output_type": "stream",
     "text": [
      "\n"
     ]
    },
    {
     "ename": "KeyboardInterrupt",
     "evalue": "",
     "output_type": "error",
     "traceback": [
      "\u001b[0;31m---------------------------------------------------------------------------\u001b[0m",
      "\u001b[0;31mKeyboardInterrupt\u001b[0m                         Traceback (most recent call last)",
      "Cell \u001b[0;32mIn[9], line 47\u001b[0m\n\u001b[1;32m     44\u001b[0m df\u001b[38;5;241m.\u001b[39mhead()\n\u001b[1;32m     46\u001b[0m \u001b[38;5;28mprint\u001b[39m(\u001b[38;5;124mf\u001b[39m\u001b[38;5;124m\"\u001b[39m\u001b[38;5;132;01m{\u001b[39;00myear\u001b[38;5;132;01m=}\u001b[39;00m\u001b[38;5;124m complete. Sleeping for 30 seconds\u001b[39m\u001b[38;5;124m\"\u001b[39m)\n\u001b[0;32m---> 47\u001b[0m \u001b[43mtime\u001b[49m\u001b[38;5;241;43m.\u001b[39;49m\u001b[43msleep\u001b[49m\u001b[43m(\u001b[49m\u001b[38;5;241;43m30\u001b[39;49m\u001b[43m)\u001b[49m\n",
      "\u001b[0;31mKeyboardInterrupt\u001b[0m: "
     ]
    }
   ],
   "source": [
    "# it will error out if you try to do all years at once, so go year by year and create a dictionary (i.e. range(2010,2011) then range(2011,2012))\n",
    "for year in range(2010, 2025):\n",
    "\n",
    "    data_dict = {}\n",
    "\n",
    "    # we could also go month by month for 14 years\n",
    "    date_range = (\n",
    "        pd.Series(pd.date_range(f\"{year}-03-01\", periods=8, freq=\"MS\", ))\n",
    "        .dt.strftime('%Y-%m-%d')\n",
    "        .to_list()\n",
    "    )\n",
    "\n",
    "    date_range = list(zip(date_range[:-1], date_range[1:]))\n",
    "\n",
    "    # Use tqdm to monitor status of loop\n",
    "    for start_date, end_date in tqdm.tqdm(date_range):\n",
    "        # exclude if the date is already in our dictionary to avoid duplicate data\n",
    "        if start_date in data_dict:\n",
    "            continue\n",
    "        try:\n",
    "            # Get month long data frame from api\n",
    "            df = pitching_stats_range(start_dt=start_date, end_dt=end_date,)\n",
    "\n",
    "            # Add month column to df, define as starting date of each month\n",
    "            df['month'] = start_date\n",
    "\n",
    "            # add df to data dict\n",
    "            data_dict[start_date] = df\n",
    "        except IndexError:\n",
    "            # If the month has no data, an index error will be raised\n",
    "            # This can simply be ignore and move onto the next month.\n",
    "            # A better solution than a try except clause would be to \n",
    "            # only use months that have baseball games in them\n",
    "            print(f\"Error on month: {start_date}\")\n",
    "            continue\n",
    "\n",
    "    # Convert dictionary to dataframe, then to_parquet file\n",
    "    df = pd.concat(data_dict.values())\n",
    "\n",
    "    df.to_parquet(f\"{year}_data.parquet.gzip\")\n",
    "    df.head()\n",
    "\n",
    "    print(f\"{year=} complete. Sleeping for 30 seconds\")\n",
    "    time.sleep(30)"
   ]
  },
  {
   "cell_type": "code",
   "execution_count": 18,
   "metadata": {},
   "outputs": [],
   "source": [
    "from glob import glob # this will allow us to grab a bunch of files with the same file name\n",
    "from tqdm import tqdm\n",
    "\n",
    "file_list = glob(\"*_data.parquet.gzip\")\n",
    "\n",
    "# TODO: define what an iterator is in P's own works \n",
    "# Iterator: will load in files as needed\n",
    "df_iter = (\n",
    "    pd.read_parquet(filename) for filename in file_list\n",
    ")\n",
    "\n",
    "df = pd.concat(df_iter)"
   ]
  },
  {
   "cell_type": "code",
   "execution_count": 20,
   "metadata": {},
   "outputs": [
    {
     "data": {
      "text/html": [
       "<div>\n",
       "<style scoped>\n",
       "    .dataframe tbody tr th:only-of-type {\n",
       "        vertical-align: middle;\n",
       "    }\n",
       "\n",
       "    .dataframe tbody tr th {\n",
       "        vertical-align: top;\n",
       "    }\n",
       "\n",
       "    .dataframe thead th {\n",
       "        text-align: right;\n",
       "    }\n",
       "</style>\n",
       "<table border=\"1\" class=\"dataframe\">\n",
       "  <thead>\n",
       "    <tr style=\"text-align: right;\">\n",
       "      <th></th>\n",
       "      <th>Name</th>\n",
       "      <th>Age</th>\n",
       "      <th>#days</th>\n",
       "      <th>Lev</th>\n",
       "      <th>Tm</th>\n",
       "      <th>G</th>\n",
       "      <th>GS</th>\n",
       "      <th>W</th>\n",
       "      <th>L</th>\n",
       "      <th>SV</th>\n",
       "      <th>...</th>\n",
       "      <th>StS</th>\n",
       "      <th>GB/FB</th>\n",
       "      <th>LD</th>\n",
       "      <th>PU</th>\n",
       "      <th>WHIP</th>\n",
       "      <th>BAbip</th>\n",
       "      <th>SO9</th>\n",
       "      <th>SO/W</th>\n",
       "      <th>mlbID</th>\n",
       "      <th>month</th>\n",
       "    </tr>\n",
       "  </thead>\n",
       "  <tbody>\n",
       "    <tr>\n",
       "      <th>1</th>\n",
       "      <td>Albert Abreu</td>\n",
       "      <td>26</td>\n",
       "      <td>757</td>\n",
       "      <td>Maj-AL</td>\n",
       "      <td>Texas</td>\n",
       "      <td>6</td>\n",
       "      <td>0</td>\n",
       "      <td>NaN</td>\n",
       "      <td>NaN</td>\n",
       "      <td>NaN</td>\n",
       "      <td>...</td>\n",
       "      <td>0.11</td>\n",
       "      <td>0.50</td>\n",
       "      <td>0.22</td>\n",
       "      <td>0.00</td>\n",
       "      <td>1.957</td>\n",
       "      <td>0.125</td>\n",
       "      <td>9.4</td>\n",
       "      <td>0.73</td>\n",
       "      <td>656061</td>\n",
       "      <td>2022-04-01</td>\n",
       "    </tr>\n",
       "    <tr>\n",
       "      <th>2</th>\n",
       "      <td>Bryan Abreu</td>\n",
       "      <td>25</td>\n",
       "      <td>757</td>\n",
       "      <td>Maj-AL</td>\n",
       "      <td>Houston</td>\n",
       "      <td>7</td>\n",
       "      <td>0</td>\n",
       "      <td>NaN</td>\n",
       "      <td>NaN</td>\n",
       "      <td>NaN</td>\n",
       "      <td>...</td>\n",
       "      <td>0.15</td>\n",
       "      <td>0.44</td>\n",
       "      <td>0.28</td>\n",
       "      <td>0.08</td>\n",
       "      <td>1.759</td>\n",
       "      <td>0.458</td>\n",
       "      <td>13.0</td>\n",
       "      <td>2.80</td>\n",
       "      <td>650556</td>\n",
       "      <td>2022-04-01</td>\n",
       "    </tr>\n",
       "    <tr>\n",
       "      <th>3</th>\n",
       "      <td>Domingo Acevedo</td>\n",
       "      <td>28</td>\n",
       "      <td>757</td>\n",
       "      <td>Maj-AL</td>\n",
       "      <td>Oakland</td>\n",
       "      <td>10</td>\n",
       "      <td>0</td>\n",
       "      <td>NaN</td>\n",
       "      <td>1.0</td>\n",
       "      <td>NaN</td>\n",
       "      <td>...</td>\n",
       "      <td>0.18</td>\n",
       "      <td>0.41</td>\n",
       "      <td>0.30</td>\n",
       "      <td>0.04</td>\n",
       "      <td>1.552</td>\n",
       "      <td>0.375</td>\n",
       "      <td>10.2</td>\n",
       "      <td>3.67</td>\n",
       "      <td>642758</td>\n",
       "      <td>2022-04-01</td>\n",
       "    </tr>\n",
       "    <tr>\n",
       "      <th>4</th>\n",
       "      <td>Jason Adam</td>\n",
       "      <td>30</td>\n",
       "      <td>758</td>\n",
       "      <td>Maj-AL</td>\n",
       "      <td>Tampa Bay</td>\n",
       "      <td>8</td>\n",
       "      <td>0</td>\n",
       "      <td>NaN</td>\n",
       "      <td>1.0</td>\n",
       "      <td>NaN</td>\n",
       "      <td>...</td>\n",
       "      <td>0.18</td>\n",
       "      <td>0.43</td>\n",
       "      <td>0.07</td>\n",
       "      <td>0.14</td>\n",
       "      <td>0.500</td>\n",
       "      <td>0.000</td>\n",
       "      <td>11.3</td>\n",
       "      <td>2.50</td>\n",
       "      <td>592094</td>\n",
       "      <td>2022-04-01</td>\n",
       "    </tr>\n",
       "    <tr>\n",
       "      <th>5</th>\n",
       "      <td>Austin Adams</td>\n",
       "      <td>31</td>\n",
       "      <td>774</td>\n",
       "      <td>Maj-NL</td>\n",
       "      <td>San Diego</td>\n",
       "      <td>2</td>\n",
       "      <td>0</td>\n",
       "      <td>1.0</td>\n",
       "      <td>NaN</td>\n",
       "      <td>NaN</td>\n",
       "      <td>...</td>\n",
       "      <td>0.11</td>\n",
       "      <td>1.00</td>\n",
       "      <td>0.00</td>\n",
       "      <td>0.00</td>\n",
       "      <td>1.286</td>\n",
       "      <td>0.000</td>\n",
       "      <td>7.7</td>\n",
       "      <td>0.67</td>\n",
       "      <td>613534</td>\n",
       "      <td>2022-04-01</td>\n",
       "    </tr>\n",
       "    <tr>\n",
       "      <th>...</th>\n",
       "      <td>...</td>\n",
       "      <td>...</td>\n",
       "      <td>...</td>\n",
       "      <td>...</td>\n",
       "      <td>...</td>\n",
       "      <td>...</td>\n",
       "      <td>...</td>\n",
       "      <td>...</td>\n",
       "      <td>...</td>\n",
       "      <td>...</td>\n",
       "      <td>...</td>\n",
       "      <td>...</td>\n",
       "      <td>...</td>\n",
       "      <td>...</td>\n",
       "      <td>...</td>\n",
       "      <td>...</td>\n",
       "      <td>...</td>\n",
       "      <td>...</td>\n",
       "      <td>...</td>\n",
       "      <td>...</td>\n",
       "      <td>...</td>\n",
       "    </tr>\n",
       "    <tr>\n",
       "      <th>589</th>\n",
       "      <td>Ryan Yarbrough</td>\n",
       "      <td>26</td>\n",
       "      <td>2064</td>\n",
       "      <td>Maj-AL</td>\n",
       "      <td>Tampa Bay</td>\n",
       "      <td>6</td>\n",
       "      <td>0</td>\n",
       "      <td>4.0</td>\n",
       "      <td>1.0</td>\n",
       "      <td>NaN</td>\n",
       "      <td>...</td>\n",
       "      <td>0.12</td>\n",
       "      <td>0.39</td>\n",
       "      <td>0.31</td>\n",
       "      <td>0.06</td>\n",
       "      <td>1.456</td>\n",
       "      <td>0.328</td>\n",
       "      <td>7.5</td>\n",
       "      <td>2.11</td>\n",
       "      <td>642232</td>\n",
       "      <td>2018-09-01</td>\n",
       "    </tr>\n",
       "    <tr>\n",
       "      <th>590</th>\n",
       "      <td>Kirby Yates</td>\n",
       "      <td>31</td>\n",
       "      <td>2064</td>\n",
       "      <td>Maj-NL</td>\n",
       "      <td>San Diego</td>\n",
       "      <td>12</td>\n",
       "      <td>0</td>\n",
       "      <td>1.0</td>\n",
       "      <td>NaN</td>\n",
       "      <td>6.0</td>\n",
       "      <td>...</td>\n",
       "      <td>0.25</td>\n",
       "      <td>0.40</td>\n",
       "      <td>0.10</td>\n",
       "      <td>0.10</td>\n",
       "      <td>0.794</td>\n",
       "      <td>0.211</td>\n",
       "      <td>15.1</td>\n",
       "      <td>4.75</td>\n",
       "      <td>489446</td>\n",
       "      <td>2018-09-01</td>\n",
       "    </tr>\n",
       "    <tr>\n",
       "      <th>591</th>\n",
       "      <td>Daniel Zamora</td>\n",
       "      <td>25</td>\n",
       "      <td>2065</td>\n",
       "      <td>Maj-NL</td>\n",
       "      <td>New York</td>\n",
       "      <td>8</td>\n",
       "      <td>0</td>\n",
       "      <td>1.0</td>\n",
       "      <td>NaN</td>\n",
       "      <td>NaN</td>\n",
       "      <td>...</td>\n",
       "      <td>0.14</td>\n",
       "      <td>0.25</td>\n",
       "      <td>0.25</td>\n",
       "      <td>0.25</td>\n",
       "      <td>0.500</td>\n",
       "      <td>0.250</td>\n",
       "      <td>18.0</td>\n",
       "      <td>8.00</td>\n",
       "      <td>623354</td>\n",
       "      <td>2018-09-01</td>\n",
       "    </tr>\n",
       "    <tr>\n",
       "      <th>592</th>\n",
       "      <td>Brad Ziegler</td>\n",
       "      <td>38</td>\n",
       "      <td>2065</td>\n",
       "      <td>Maj-NL</td>\n",
       "      <td>Arizona</td>\n",
       "      <td>14</td>\n",
       "      <td>0</td>\n",
       "      <td>1.0</td>\n",
       "      <td>NaN</td>\n",
       "      <td>NaN</td>\n",
       "      <td>...</td>\n",
       "      <td>0.09</td>\n",
       "      <td>0.69</td>\n",
       "      <td>0.23</td>\n",
       "      <td>0.00</td>\n",
       "      <td>1.286</td>\n",
       "      <td>0.265</td>\n",
       "      <td>6.9</td>\n",
       "      <td>1.80</td>\n",
       "      <td>446899</td>\n",
       "      <td>2018-09-01</td>\n",
       "    </tr>\n",
       "    <tr>\n",
       "      <th>593</th>\n",
       "      <td>Jordan Zimmermann</td>\n",
       "      <td>32</td>\n",
       "      <td>2066</td>\n",
       "      <td>Maj-AL</td>\n",
       "      <td>Detroit</td>\n",
       "      <td>5</td>\n",
       "      <td>5</td>\n",
       "      <td>1.0</td>\n",
       "      <td>2.0</td>\n",
       "      <td>NaN</td>\n",
       "      <td>...</td>\n",
       "      <td>0.07</td>\n",
       "      <td>0.35</td>\n",
       "      <td>0.28</td>\n",
       "      <td>0.08</td>\n",
       "      <td>1.378</td>\n",
       "      <td>0.268</td>\n",
       "      <td>6.2</td>\n",
       "      <td>2.13</td>\n",
       "      <td>519455</td>\n",
       "      <td>2018-09-01</td>\n",
       "    </tr>\n",
       "  </tbody>\n",
       "</table>\n",
       "<p>44247 rows × 42 columns</p>\n",
       "</div>"
      ],
      "text/plain": [
       "                  Name  Age  #days     Lev         Tm   G  GS    W    L   SV  \\\n",
       "1         Albert Abreu   26    757  Maj-AL      Texas   6   0  NaN  NaN  NaN   \n",
       "2          Bryan Abreu   25    757  Maj-AL    Houston   7   0  NaN  NaN  NaN   \n",
       "3      Domingo Acevedo   28    757  Maj-AL    Oakland  10   0  NaN  1.0  NaN   \n",
       "4           Jason Adam   30    758  Maj-AL  Tampa Bay   8   0  NaN  1.0  NaN   \n",
       "5         Austin Adams   31    774  Maj-NL  San Diego   2   0  1.0  NaN  NaN   \n",
       "..                 ...  ...    ...     ...        ...  ..  ..  ...  ...  ...   \n",
       "589     Ryan Yarbrough   26   2064  Maj-AL  Tampa Bay   6   0  4.0  1.0  NaN   \n",
       "590        Kirby Yates   31   2064  Maj-NL  San Diego  12   0  1.0  NaN  6.0   \n",
       "591      Daniel Zamora   25   2065  Maj-NL   New York   8   0  1.0  NaN  NaN   \n",
       "592       Brad Ziegler   38   2065  Maj-NL    Arizona  14   0  1.0  NaN  NaN   \n",
       "593  Jordan Zimmermann   32   2066  Maj-AL    Detroit   5   5  1.0  2.0  NaN   \n",
       "\n",
       "     ...   StS  GB/FB    LD    PU   WHIP  BAbip   SO9  SO/W   mlbID  \\\n",
       "1    ...  0.11   0.50  0.22  0.00  1.957  0.125   9.4  0.73  656061   \n",
       "2    ...  0.15   0.44  0.28  0.08  1.759  0.458  13.0  2.80  650556   \n",
       "3    ...  0.18   0.41  0.30  0.04  1.552  0.375  10.2  3.67  642758   \n",
       "4    ...  0.18   0.43  0.07  0.14  0.500  0.000  11.3  2.50  592094   \n",
       "5    ...  0.11   1.00  0.00  0.00  1.286  0.000   7.7  0.67  613534   \n",
       "..   ...   ...    ...   ...   ...    ...    ...   ...   ...     ...   \n",
       "589  ...  0.12   0.39  0.31  0.06  1.456  0.328   7.5  2.11  642232   \n",
       "590  ...  0.25   0.40  0.10  0.10  0.794  0.211  15.1  4.75  489446   \n",
       "591  ...  0.14   0.25  0.25  0.25  0.500  0.250  18.0  8.00  623354   \n",
       "592  ...  0.09   0.69  0.23  0.00  1.286  0.265   6.9  1.80  446899   \n",
       "593  ...  0.07   0.35  0.28  0.08  1.378  0.268   6.2  2.13  519455   \n",
       "\n",
       "          month  \n",
       "1    2022-04-01  \n",
       "2    2022-04-01  \n",
       "3    2022-04-01  \n",
       "4    2022-04-01  \n",
       "5    2022-04-01  \n",
       "..          ...  \n",
       "589  2018-09-01  \n",
       "590  2018-09-01  \n",
       "591  2018-09-01  \n",
       "592  2018-09-01  \n",
       "593  2018-09-01  \n",
       "\n",
       "[44247 rows x 42 columns]"
      ]
     },
     "execution_count": 20,
     "metadata": {},
     "output_type": "execute_result"
    }
   ],
   "source": [
    "df"
   ]
  },
  {
   "cell_type": "code",
   "execution_count": null,
   "metadata": {},
   "outputs": [],
   "source": []
  }
 ],
 "metadata": {
  "kernelspec": {
   "display_name": "base",
   "language": "python",
   "name": "python3"
  },
  "language_info": {
   "codemirror_mode": {
    "name": "ipython",
    "version": 3
   },
   "file_extension": ".py",
   "mimetype": "text/x-python",
   "name": "python",
   "nbconvert_exporter": "python",
   "pygments_lexer": "ipython3",
   "version": "3.12.2"
  }
 },
 "nbformat": 4,
 "nbformat_minor": 2
}
