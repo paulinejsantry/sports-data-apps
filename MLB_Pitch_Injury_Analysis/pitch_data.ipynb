{
 "cells": [
  {
   "cell_type": "markdown",
   "metadata": {},
   "source": [
    "# Load pitch data using the pybaseball package\n",
    "- The pybaseball package scrapes data from [baseball savant](https://baseballsavant.mlb.com/statcast_search?hfPT=&hfAB=&hfGT=R%7C&hfPR=&hfZ=&hfStadium=&hfBBL=&hfNewZones=&hfPull=&hfC=&hfSea=2021%7C2020%7C2019%7C&hfSit=&player_type=pitcher&hfOuts=&hfOpponent=&pitcher_throws=&batter_stands=&hfSA=&game_date_gt=&game_date_lt=&hfMo=&hfTeam=&home_road=&hfRO=&position=&hfInfield=&hfOutfield=&hfInn=&hfBBT=&hfFlag=&metric_1=&group_by=name&min_pitches=0&min_results=0&min_pas=0&sort_col=pitches&player_event_sort=api_p_release_speed&sort_order=desc#results) to get pitch level data\n",
    "- https://github.com/jldbc/pybaseball\n"
   ]
  },
  {
   "cell_type": "code",
   "execution_count": 82,
   "metadata": {},
   "outputs": [],
   "source": [
    "import pandas as pd\n",
    "import tqdm # for tracking status of loops\n",
    "from pybaseball import statcast, pitching_stats, pitching_stats_range\n"
   ]
  },
  {
   "cell_type": "code",
   "execution_count": 34,
   "metadata": {},
   "outputs": [],
   "source": [
    "# get season level data for each pitcher and save it to a parquet file\n",
    "df = pitching_stats(2010,2025)\n",
    "df.to_parquet('by_season_data.gzip', compression='gzip')"
   ]
  },
  {
   "cell_type": "code",
   "execution_count": 40,
   "metadata": {},
   "outputs": [
    {
     "data": {
      "text/plain": [
       "Index(['IDfg', 'Season', 'Name', 'Team', 'Age', 'W', 'L', 'WAR', 'ERA', 'G',\n",
       "       ...\n",
       "       'Pit+ FC', 'Stf+ FS', 'Loc+ FS', 'Pit+ FS', 'Stuff+', 'Location+',\n",
       "       'Pitching+', 'Stf+ FO', 'Loc+ FO', 'Pit+ FO'],\n",
       "      dtype='object', length=393)"
      ]
     },
     "execution_count": 40,
     "metadata": {},
     "output_type": "execute_result"
    }
   ],
   "source": [
    "pd.read_parquet('by_season_data.gzip').columns"
   ]
  },
  {
   "cell_type": "code",
   "execution_count": 46,
   "metadata": {},
   "outputs": [],
   "source": [
    "# Create an empty dictionary to fill in with monthly data pulled from pitching_stats_range\n",
    "data_dict = {}"
   ]
  },
  {
   "cell_type": "code",
   "execution_count": 83,
   "metadata": {},
   "outputs": [
    {
     "name": "stderr",
     "output_type": "stream",
     "text": [
      " 56%|█████▋    | 94/167 [09:52<07:17,  6.00s/it]"
     ]
    }
   ],
   "source": [
    "# we could also go month by month for 14 years\n",
    "date_range = (\n",
    "    pd.Series(pd.date_range(\"2010-01-01\", periods=12 * 14, freq=\"MS\", ))\n",
    "    .dt.strftime('%Y-%m-%d')\n",
    "    .to_list()\n",
    ")\n",
    "date_range = list(zip(date_range[:-1], date_range[1:]))\n",
    "\n",
    "# Use tqdm to monitor status of loopz\n",
    "for start_date, end_date in tqdm.tqdm(date_range):\n",
    "    if start_date in data_dict:\n",
    "        continue\n",
    "    try:\n",
    "        data_dict[start_date] = pitching_stats_range(start_dt=start_date, end_dt=end_date)\n",
    "    except IndexError:\n",
    "        # If the month has no data, an index error will be raised\n",
    "        # This can simply be ignore and move onto the next month.\n",
    "        # A better solution than a try except clause would be to \n",
    "        # only use months that have baseball games in them\n",
    "        continue\n",
    "\n",
    "# TO DO: convert dictionary to dataframe, then to_parquet file"
   ]
  }
 ],
 "metadata": {
  "kernelspec": {
   "display_name": "base",
   "language": "python",
   "name": "python3"
  },
  "language_info": {
   "codemirror_mode": {
    "name": "ipython",
    "version": 3
   },
   "file_extension": ".py",
   "mimetype": "text/x-python",
   "name": "python",
   "nbconvert_exporter": "python",
   "pygments_lexer": "ipython3",
   "version": "3.12.2"
  }
 },
 "nbformat": 4,
 "nbformat_minor": 2
}
