{
 "cells": [
  {
   "cell_type": "code",
   "execution_count": 8,
   "metadata": {},
   "outputs": [],
   "source": [
    "# Credit to https://github.com/robotallie/baseball-injuries/blob/master/injury_data_scrape.ipynb, just had to make a few adjustments\n",
    "import csv\n",
    "import requests\n",
    "from bs4 import BeautifulSoup\n",
    "\n",
    "import numpy as np\n",
    "import pandas as pd\n",
    "import matplotlib.pyplot as plt\n",
    "import seaborn as sns\n",
    "import lxml \n",
    "\n",
    "%matplotlib inline"
   ]
  },
  {
   "cell_type": "code",
   "execution_count": 10,
   "metadata": {},
   "outputs": [
    {
     "data": {
      "text/html": [
       "<div>\n",
       "<style scoped>\n",
       "    .dataframe tbody tr th:only-of-type {\n",
       "        vertical-align: middle;\n",
       "    }\n",
       "\n",
       "    .dataframe tbody tr th {\n",
       "        vertical-align: top;\n",
       "    }\n",
       "\n",
       "    .dataframe thead th {\n",
       "        text-align: right;\n",
       "    }\n",
       "</style>\n",
       "<table border=\"1\" class=\"dataframe\">\n",
       "  <thead>\n",
       "    <tr style=\"text-align: right;\">\n",
       "      <th></th>\n",
       "      <th>0</th>\n",
       "      <th>1</th>\n",
       "      <th>2</th>\n",
       "      <th>3</th>\n",
       "      <th>4</th>\n",
       "    </tr>\n",
       "  </thead>\n",
       "  <tbody>\n",
       "    <tr>\n",
       "      <th>0</th>\n",
       "      <td>1999-04-05</td>\n",
       "      <td>Cardinals</td>\n",
       "      <td></td>\n",
       "      <td>• David Howard (Wayne)</td>\n",
       "      <td>placed on 15-day DL</td>\n",
       "    </tr>\n",
       "    <tr>\n",
       "      <th>1</th>\n",
       "      <td>1999-04-05</td>\n",
       "      <td>Cardinals</td>\n",
       "      <td></td>\n",
       "      <td>• Ray Lankford</td>\n",
       "      <td>placed on 15-day DL</td>\n",
       "    </tr>\n",
       "    <tr>\n",
       "      <th>2</th>\n",
       "      <td>1999-04-05</td>\n",
       "      <td>Giants</td>\n",
       "      <td></td>\n",
       "      <td>• Bill Mueller</td>\n",
       "      <td>placed on 15-day DL</td>\n",
       "    </tr>\n",
       "    <tr>\n",
       "      <th>3</th>\n",
       "      <td>1999-04-08</td>\n",
       "      <td>Padres</td>\n",
       "      <td></td>\n",
       "      <td>• George Arias</td>\n",
       "      <td>placed on 15-day DL</td>\n",
       "    </tr>\n",
       "    <tr>\n",
       "      <th>4</th>\n",
       "      <td>1999-04-12</td>\n",
       "      <td>Blue Jays</td>\n",
       "      <td>• Robert Person</td>\n",
       "      <td></td>\n",
       "      <td>activated from 15-day DL</td>\n",
       "    </tr>\n",
       "  </tbody>\n",
       "</table>\n",
       "</div>"
      ],
      "text/plain": [
       "            0           1                 2                        3  \\\n",
       "0  1999-04-05   Cardinals                     • David Howard (Wayne)   \n",
       "1  1999-04-05   Cardinals                             • Ray Lankford   \n",
       "2  1999-04-05      Giants                             • Bill Mueller   \n",
       "3  1999-04-08      Padres                             • George Arias   \n",
       "4  1999-04-12   Blue Jays   • Robert Person                            \n",
       "\n",
       "                           4  \n",
       "0        placed on 15-day DL  \n",
       "1        placed on 15-day DL  \n",
       "2        placed on 15-day DL  \n",
       "3        placed on 15-day DL  \n",
       "4   activated from 15-day DL  "
      ]
     },
     "execution_count": 10,
     "metadata": {},
     "output_type": "execute_result"
    }
   ],
   "source": [
    "df = pd.DataFrame()\n",
    "# Get a list of dictionaries for the injuries \n",
    "injuries_data = []\n",
    "for i in range(0,731): # number of page increments plus one\n",
    "    url_string = \"http://www.prosportstransactions.com/baseball/Search/SearchResults.php?Player=&Team=&BeginDate=1999-03-01&EndDate=2017-11-01&DLChkBx=yes&submit=Search&start=\"+str(25* i )\n",
    "    req = requests.get(url_string)\n",
    "    soup = BeautifulSoup(req.content, \"html.parser\")\n",
    "    for item in soup.find_all(\"tr\", {\"align\":\"left\"}):# Code for each individual page to capture data\n",
    "        raw_text = item.text.strip().split(\"\\n\")\n",
    "        injuries_data.append(raw_text)\n",
    "\n",
    "# Create a dataframe from the injuries data for 730 pages, with ~25 per page = ~18,250 rows        \n",
    "df = pd.DataFrame(injuries_data)\n",
    "df.head()"
   ]
  },
  {
   "cell_type": "code",
   "execution_count": 11,
   "metadata": {},
   "outputs": [
    {
     "data": {
      "text/html": [
       "<div>\n",
       "<style scoped>\n",
       "    .dataframe tbody tr th:only-of-type {\n",
       "        vertical-align: middle;\n",
       "    }\n",
       "\n",
       "    .dataframe tbody tr th {\n",
       "        vertical-align: top;\n",
       "    }\n",
       "\n",
       "    .dataframe thead th {\n",
       "        text-align: right;\n",
       "    }\n",
       "</style>\n",
       "<table border=\"1\" class=\"dataframe\">\n",
       "  <thead>\n",
       "    <tr style=\"text-align: right;\">\n",
       "      <th></th>\n",
       "      <th>Date</th>\n",
       "      <th>Team</th>\n",
       "      <th>Acquired</th>\n",
       "      <th>Relinquished</th>\n",
       "      <th>Notes</th>\n",
       "    </tr>\n",
       "  </thead>\n",
       "  <tbody>\n",
       "    <tr>\n",
       "      <th>0</th>\n",
       "      <td>1999-04-05</td>\n",
       "      <td>Cardinals</td>\n",
       "      <td></td>\n",
       "      <td>• David Howard (Wayne)</td>\n",
       "      <td>placed on 15-day DL</td>\n",
       "    </tr>\n",
       "    <tr>\n",
       "      <th>1</th>\n",
       "      <td>1999-04-05</td>\n",
       "      <td>Cardinals</td>\n",
       "      <td></td>\n",
       "      <td>• Ray Lankford</td>\n",
       "      <td>placed on 15-day DL</td>\n",
       "    </tr>\n",
       "    <tr>\n",
       "      <th>2</th>\n",
       "      <td>1999-04-05</td>\n",
       "      <td>Giants</td>\n",
       "      <td></td>\n",
       "      <td>• Bill Mueller</td>\n",
       "      <td>placed on 15-day DL</td>\n",
       "    </tr>\n",
       "    <tr>\n",
       "      <th>3</th>\n",
       "      <td>1999-04-08</td>\n",
       "      <td>Padres</td>\n",
       "      <td></td>\n",
       "      <td>• George Arias</td>\n",
       "      <td>placed on 15-day DL</td>\n",
       "    </tr>\n",
       "    <tr>\n",
       "      <th>4</th>\n",
       "      <td>1999-04-12</td>\n",
       "      <td>Blue Jays</td>\n",
       "      <td>• Robert Person</td>\n",
       "      <td></td>\n",
       "      <td>activated from 15-day DL</td>\n",
       "    </tr>\n",
       "  </tbody>\n",
       "</table>\n",
       "</div>"
      ],
      "text/plain": [
       "         Date        Team          Acquired             Relinquished  \\\n",
       "0  1999-04-05   Cardinals                     • David Howard (Wayne)   \n",
       "1  1999-04-05   Cardinals                             • Ray Lankford   \n",
       "2  1999-04-05      Giants                             • Bill Mueller   \n",
       "3  1999-04-08      Padres                             • George Arias   \n",
       "4  1999-04-12   Blue Jays   • Robert Person                            \n",
       "\n",
       "                       Notes  \n",
       "0        placed on 15-day DL  \n",
       "1        placed on 15-day DL  \n",
       "2        placed on 15-day DL  \n",
       "3        placed on 15-day DL  \n",
       "4   activated from 15-day DL  "
      ]
     },
     "execution_count": 11,
     "metadata": {},
     "output_type": "execute_result"
    }
   ],
   "source": [
    "df.columns = ['Date','Team','Acquired','Relinquished','Notes']\n",
    "df.head()"
   ]
  },
  {
   "cell_type": "code",
   "execution_count": 14,
   "metadata": {},
   "outputs": [],
   "source": [
    "# Create a dummy column that is 1 if the row represents an injury \n",
    "# or a 0 if the row represents a player reactivated.\n",
    "df['Injury'] = [1 if 'placed' in text else 0 for text in df.Notes]"
   ]
  },
  {
   "cell_type": "code",
   "execution_count": 15,
   "metadata": {},
   "outputs": [],
   "source": [
    "# Start to extract the number out of the Notes column.\n",
    "# Replace the hyphen in '15-day' with a space to help splitting and extracting digits.\n",
    "df.Notes = df.Notes.apply(lambda x: x.replace('-',' '))"
   ]
  },
  {
   "cell_type": "code",
   "execution_count": 16,
   "metadata": {},
   "outputs": [],
   "source": [
    "def filter_notes_for_DL(notes):\n",
    "    if '15' in notes:\n",
    "        return 15\n",
    "    elif '60' in notes:\n",
    "        return 60\n",
    "    elif '10' in notes:\n",
    "        return 10\n",
    "    elif '7' in notes:\n",
    "        return 7\n",
    "    elif 'restricted' in notes:\n",
    "        return 0\n",
    "    elif 'temporary' in notes:\n",
    "        return 0\n",
    "    else:\n",
    "        return 0"
   ]
  },
  {
   "cell_type": "code",
   "execution_count": 17,
   "metadata": {},
   "outputs": [],
   "source": [
    "df['DL_length'] = df.Notes.map(filter_notes_for_DL)"
   ]
  },
  {
   "cell_type": "code",
   "execution_count": 18,
   "metadata": {},
   "outputs": [],
   "source": [
    "def extract_injury(notes):\n",
    "    \"\"\"Function parses notes column\n",
    "    to obtain the injury type and returns a string\"\"\"\n",
    "    if len(notes.split('with')) > 1:\n",
    "        return notes.split('with')[1]\n",
    "    else:\n",
    "        return 'unknown'"
   ]
  },
  {
   "cell_type": "code",
   "execution_count": 19,
   "metadata": {},
   "outputs": [
    {
     "data": {
      "text/plain": [
       "0          placed on 15 day DL\n",
       "1          placed on 15 day DL\n",
       "2          placed on 15 day DL\n",
       "3          placed on 15 day DL\n",
       "4     activated from 15 day DL\n",
       "Name: Notes, dtype: object"
      ]
     },
     "execution_count": 19,
     "metadata": {},
     "output_type": "execute_result"
    }
   ],
   "source": [
    "df.Notes.head()"
   ]
  },
  {
   "cell_type": "code",
   "execution_count": 20,
   "metadata": {},
   "outputs": [],
   "source": [
    "# Create a column that describes the type of injury based on the notes column using\n",
    "# the function I created: extract_injury, df['Injury_Type']\n",
    "df['Injury_Type'] = df.Notes.map(extract_injury)"
   ]
  },
  {
   "cell_type": "code",
   "execution_count": 21,
   "metadata": {},
   "outputs": [
    {
     "data": {
      "text/plain": [
       "Injury_Type\n",
       "unknown                                                                                   9798\n",
       " strained left hamstring                                                                   283\n",
       " strained right hamstring                                                                  231\n",
       " right shoulder inflammation                                                               222\n",
       " concussion                                                                                185\n",
       "                                                                                          ... \n",
       " bursitis in right shoulder and internal rotation deficit                                    1\n",
       " left elbow inflammation (CBC CBS MLB)                                                       1\n",
       " left testicular fracture                                                                    1\n",
       " pulled right oblique muscle                                                                 1\n",
       " strained rotator cuff in right shoulder / right shoulder impingement (out for season)       1\n",
       "Name: count, Length: 2276, dtype: int64"
      ]
     },
     "execution_count": 21,
     "metadata": {},
     "output_type": "execute_result"
    }
   ],
   "source": [
    "# What kind of injuries are we looking at?\n",
    "df['Injury_Type'].value_counts()"
   ]
  },
  {
   "cell_type": "code",
   "execution_count": 22,
   "metadata": {},
   "outputs": [
    {
     "name": "stdout",
     "output_type": "stream",
     "text": [
      "Before removing reactivations: (18235, 8)\n",
      "With only placements onto the Disabled List: (8440, 8)\n"
     ]
    }
   ],
   "source": [
    "# Remove rows where df['Injury']==0\n",
    "print('Before removing reactivations:',df.shape)\n",
    "df = df[df.Injury != 0]\n",
    "print('With only placements onto the Disabled List:',df.shape)"
   ]
  },
  {
   "cell_type": "code",
   "execution_count": 23,
   "metadata": {},
   "outputs": [],
   "source": [
    "df.to_csv('injuries.csv',index=False)"
   ]
  }
 ],
 "metadata": {
  "kernelspec": {
   "display_name": "base",
   "language": "python",
   "name": "python3"
  },
  "language_info": {
   "codemirror_mode": {
    "name": "ipython",
    "version": 3
   },
   "file_extension": ".py",
   "mimetype": "text/x-python",
   "name": "python",
   "nbconvert_exporter": "python",
   "pygments_lexer": "ipython3",
   "version": "3.12.2"
  }
 },
 "nbformat": 4,
 "nbformat_minor": 2
}
